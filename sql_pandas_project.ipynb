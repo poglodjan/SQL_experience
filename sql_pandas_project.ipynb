{
 "cells": [
  {
   "cell_type": "markdown",
   "id": "6333912c-0c44-43ed-8a53-79da4f8a4d98",
   "metadata": {
    "tags": []
   },
   "source": [
    "# Data analysis with python"
   ]
  },
  {
   "cell_type": "code",
   "execution_count": null,
   "id": "2f1d2da9-c725-4606-9c32-7b28103f841f",
   "metadata": {},
   "outputs": [],
   "source": [
    "# ------ 0) Wgranie potrzebnych ramek danych:\n",
    "import pandas as pd\n",
    "import numpy as np\n",
    "import os, os.path\n",
    "import sqlite3\n",
    "\n",
    "Tags = pd.read_csv(\"Tags.csv\")\n",
    "Badges = pd.read_csv(\"Badges.csv\")\n",
    "Posts = pd.read_csv(\"Posts.csv\")\n",
    "Users = pd.read_csv(\"Users.csv\")\n",
    "\n",
    "baza = os.path.join('przyklad.db')\n",
    "if os.path.isfile(baza): \n",
    "\tos.remove(baza) \n",
    "\n",
    "conn = sqlite3.connect(baza)\n",
    "Badges.to_sql(\"Badges\", conn) \n",
    "Posts.to_sql(\"Posts\", conn)\n",
    "Tags.to_sql(\"Tags\", conn)\n",
    "Users.to_sql(\"Users\", conn)\n"
   ]
  },
  {
   "cell_type": "markdown",
   "id": "3e251c61-353f-49ad-997f-f07dc9ba3fd0",
   "metadata": {},
   "source": [
    "# Zadanie 1"
   ]
  },
  {
   "cell_type": "code",
   "execution_count": null,
   "id": "fd0b79c6-1c12-4fe2-ae14-7190ce95f76a",
   "metadata": {},
   "outputs": [],
   "source": [
    "# Zadanie ------ 1) rozwiązanie sql:\n",
    "\n",
    "sqldf1 = pd.read_sql_query(\"\"\"\n",
    "SELECT Count, TagName\n",
    "FROM Tags\n",
    "WHERE Count > 1000\n",
    "ORDER BY Count DESC\n",
    "\"\"\", conn)\n"
   ]
  },
  {
   "cell_type": "code",
   "execution_count": 4,
   "id": "7d40015b-ef8a-424a-97af-eca263a6d0ab",
   "metadata": {},
   "outputs": [],
   "source": [
    "# Zadanie ------ 1) rozwiązanie pandas:\n",
    "\n",
    "edited_Tags = Tags[[\"TagName\", \"Count\"]] # Wybieramy kolumny na których będziemy operować\n",
    "edited_Tags = edited_Tags.loc[edited_Tags[\"Count\"] > 1000] # Wybieramy tagi, których jest więcej niż 1000\n",
    "edited_Tags = edited_Tags.sort_values(by=['Count'], ascending = False) # układamy zliczenia tagów malejąco\n",
    "pandas_result1 = edited_Tags[[\"Count\",\"TagName\"]].reset_index(drop=True) # usuwamy kolumny indeksów\n"
   ]
  },
  {
   "cell_type": "code",
   "execution_count": null,
   "id": "8804d1e2-8b69-4e8d-8feb-f1f2eb0ac0f8",
   "metadata": {},
   "outputs": [],
   "source": [
    "# Zadanie ------ 1) sprawdzenie wyników:\n",
    "\n",
    "print(type(pandas_result1)) # podaje wynik DataFrame\n",
    "print(sqldf1.equals(pandas_result1)) # podaje wynik True\n"
   ]
  },
  {
   "cell_type": "markdown",
   "id": "cc76e221-a5e7-40af-bac3-11ba9cacf7fe",
   "metadata": {},
   "source": [
    "# Zadanie 2"
   ]
  },
  {
   "cell_type": "code",
   "execution_count": null,
   "id": "230bdbce-3cfa-4a05-9c70-ceb48ccb794d",
   "metadata": {},
   "outputs": [],
   "source": [
    "# Zadanie ------ 2) rozwiązanie sql:\n",
    "\n",
    "sqldf2 = pd.read_sql_query(\"\"\"\n",
    "SELECT Location, COUNT(*) AS Count\n",
    "  FROM (\n",
    "  SELECT Posts.OwnerUserId, Users.Id, Users.Location\n",
    "  FROM Users\n",
    "  JOIN Posts ON Users.Id = Posts.OwnerUserId\n",
    "  )\n",
    "  WHERE Location NOT IN ('')\n",
    "  GROUP BY Location\n",
    "  ORDER BY Count DESC\n",
    "  LIMIT 10\n",
    "\"\"\", conn)\n"
   ]
  },
  {
   "cell_type": "code",
   "execution_count": null,
   "id": "7368fd0c-7a61-4247-a999-899818b096e9",
   "metadata": {},
   "outputs": [],
   "source": [
    "# Zadanie ------ 2) rozwiązanie pandas:\n",
    "\n",
    "edited_Users = Users[[\"Id\",\"Location\"]] # Wybieramy potrzebne kolumny\n",
    "edited_Users = edited_Users.loc[edited_Users[\"Location\"]!=\"\"] # eliminujemy puste lokalizacje\n",
    "edited_Posts = Posts[\"OwnerUserId\"] # wybieramy potrzebną kolumnę z Posts\n",
    "edited_Posts = edited_Posts.to_frame() # Zmieniamy z Series na dataFrame\n",
    "edited_Posts = edited_Posts.rename({\"OwnerUserId\":\"Id\"},axis=1) # Zmieniamy nazwę kolumny na \"Id\"\n",
    "merge = pd.merge(edited_Users,edited_Posts, on=\"Id\") # Dokonujemy merge wedle Id\n",
    "pandas_result2 = merge.groupby([\"Location\"])[\"Location\"].count() # grupujemy po lokacjach i zliczamy\n",
    "pandas_result2 = pandas_result2.to_frame() # Zmieniamy z Series na dataFrame\n",
    "pandas_result2.columns = [\"Count\"] # Zmieniamy nazwę kolumny wyliczonych lokacji na Count\n",
    "pandas_result2 = pandas_result2.sort_values([\"Count\"], ascending = False).head(10) # sortujemy dane i podajemy 10 wyników\n",
    "pandas_result2['Location'] = pandas_result2.index # Zmieniamy kolumnę z indeksów na Location \n",
    "pandas_result2.index=range(0, len(pandas_result2)) # Tworzymy kolumnę indeksów\n",
    "pandas_result2 = pd.DataFrame(pandas_result2,columns=[\"Location\",\"Count\"]) # Zamieniamy kolumny miejscami aby uzyskać wynik\n"
   ]
  },
  {
   "cell_type": "code",
   "execution_count": null,
   "id": "fc3096a8-2f8b-48b1-b0c8-c0affdb6f2ce",
   "metadata": {},
   "outputs": [],
   "source": [
    "# Zadanie ------ 2) sprawdzenie wyników:\n",
    "\n",
    "print(type(pandas_result2)) # Zwraca DataFrame\n",
    "print(sqldf2.equals(pandas_result2)) # Zwraca True\n"
   ]
  },
  {
   "cell_type": "markdown",
   "id": "1170d57a-3390-4375-a81c-bb8c1099b58d",
   "metadata": {},
   "source": [
    "# Zadanie 3"
   ]
  },
  {
   "cell_type": "code",
   "execution_count": null,
   "id": "02ff0f83-7c14-41a6-bff0-23598455dedb",
   "metadata": {},
   "outputs": [],
   "source": [
    "# Zadanie ------ 3) rozwiązanie sql:\n",
    "\n",
    "sqldf3 = pd.read_sql_query(\"\"\"\n",
    "SELECT Year, SUM(Number) AS TotalNumber\n",
    "  FROM (\n",
    "  SELECT\n",
    "  Name,\n",
    "  COUNT(*) AS Number,\n",
    "  STRFTIME('%Y', Badges.Date) AS Year\n",
    "  FROM Badges\n",
    "  WHERE Class = 1\n",
    "  GROUP BY Name, Year\n",
    "  )\n",
    "  GROUP BY Year\n",
    "  ORDER BY TotalNumber\n",
    "\"\"\", conn)"
   ]
  },
  {
   "cell_type": "code",
   "execution_count": null,
   "id": "2ed89046-1076-45d1-8d20-e77b2697af61",
   "metadata": {},
   "outputs": [],
   "source": [
    "# Zadanie ------ 3) rozwiązanie pandas:\n",
    "\n",
    "edited_Badges = Badges.loc[Badges[\"Class\"]==1][[\"Name\",\"Date\"]] # Wybieramy dane tylko z pierwszą klasą\n",
    "date = edited_Badges[\"Date\"] # Tworzymy wartość date do modyfikowania daty\n",
    "Year = pd.DatetimeIndex(date).year  # Zmieniamy date aby został tylko rok\n",
    "edited_Badges[\"Date\"] = Year   # Podmieniamy date na zmodyfikowaną\n",
    "pandas_result3 = edited_Badges.groupby([\"Date\"])[\"Date\"].count() # Grupujemy i zliczamy po Date\n",
    "pandas_result3 = pandas_result3.to_frame() # Zmieniamy z Series na DataFrame\n",
    "pandas_result3.columns=[\"TotalNumber\"] # Zmieniamy nazwe kolumny na TotalNumber\n",
    "pandas_result3['Date'] = pandas_result3.index.astype(str) # Zmieniamy wartości dat na stringi i przenosimy do kolumny Date\n",
    "pandas_result3.index=range(0, len(pandas_result3)) # Tworzymy kolumnę indeksów\n",
    "pandas_result3 = pd.DataFrame(pandas_result3,columns=[\"Date\",\"TotalNumber\"]) # Zamieniamy kolumny do ostatecznego wyniku\n",
    "pandas_result3 = pandas_result3.sort_values([\"TotalNumber\"], ascending = True).reset_index(drop=True) # Resetujemy kolumne indeksów i sortujemy \n",
    "pandas_result3.columns=[\"Year\",\"TotalNumber\"] # Zmieniamy nazwy kolumn aby uzyskać wynik\n"
   ]
  },
  {
   "cell_type": "code",
   "execution_count": null,
   "id": "44b7da8a-db4a-4dde-9417-3e27d5b1b09d",
   "metadata": {},
   "outputs": [],
   "source": [
    "# Zadanie ------ 3) sprawdzenie wyników:\n",
    "\n",
    "print(type(pandas_result3)) # Zwraca DataFrame\n",
    "print(sqldf3.equals(pandas_result3)) # Zwraca True\n"
   ]
  },
  {
   "cell_type": "markdown",
   "id": "ec5df00f-36b1-4c19-9a93-3593146c43b7",
   "metadata": {},
   "source": [
    "# Zadanie 4"
   ]
  },
  {
   "cell_type": "code",
   "execution_count": null,
   "id": "fb993b89-9731-480f-8f95-8e1cb1893510",
   "metadata": {},
   "outputs": [],
   "source": [
    "# Zadanie ------ 4) rozwiązanie sql:\n",
    "\n",
    "sqldf4 = pd.read_sql_query(\"\"\"\n",
    "SELECT\n",
    "  Users.AccountId,\n",
    "  Users.DisplayName,\n",
    "  Users.Location,\n",
    "  AVG(PostAuth.AnswersCount) as AverageAnswersCount\n",
    "  FROM\n",
    "  (\n",
    "  SELECT\n",
    "  AnsCount.AnswersCount,\n",
    "  Posts.Id,\n",
    "  Posts.OwnerUserId\n",
    "  FROM (\n",
    "  SELECT Posts.ParentId, COUNT(*) AS AnswersCount\n",
    "  FROM Posts\n",
    "  WHERE Posts.PostTypeId = 2\n",
    "  GROUP BY Posts.ParentId\n",
    "  ) AS AnsCount\n",
    "  JOIN Posts ON Posts.Id = AnsCount.ParentId\n",
    "  ) AS PostAuth\n",
    "  JOIN Users ON Users.AccountId=PostAuth.OwnerUserId\n",
    "  GROUP BY OwnerUserId\n",
    "  ORDER BY AverageAnswersCount DESC, AccountId ASC\n",
    "  LIMIT 10\n",
    "\"\"\", conn)\n"
   ]
  },
  {
   "cell_type": "code",
   "execution_count": null,
   "id": "c547b761-3d17-47d3-a84c-9bf96c375c5b",
   "metadata": {},
   "outputs": [],
   "source": [
    "# Zadanie ------ 4) rozwiązanie pandas:\n",
    "\n",
    "edited_Posts = Posts.loc[Posts[\"PostTypeId\"]==2][[\"ParentId\"]] # Filtrujemy po PostTypeId równych 2\n",
    "Id = Posts[[\"Id\",\"OwnerUserId\"]] # Zmieniamy nazwy kolumny\n",
    "edited_User = Users[[\"AccountId\",\"Location\",\"DisplayName\"]] # Wybieramy potrzebne kolumny\n",
    "edited_User.columns = [\"OwnerUserId\",\"Location\",\"DisplayName\"] # Zmieniamy nazwy kolumn\n",
    "AnsCount = edited_Posts.groupby([\"ParentId\"])[\"ParentId\"].count() # Grupujemy i zliczamy po ParentId\n",
    "AnsCount = AnsCount.to_frame() # Przekształcamy z Series do frame\n",
    "AnsCount.columns=[\"TotalNumber\"] # Zmieniamy nazwe kolumny w AnsCount\n",
    "AnsCount['ParentId'] = AnsCount.index.astype(int) # zapisujemy kolumne ParentId jako int\n",
    "AnsCount.index=range(0, len(AnsCount)) # Dodajemy kolumne indeksu\n",
    "AnsCount = AnsCount.rename(columns={\"ParentId\":\"Id\"})  # Zmieniamy nazwe kolumny na Id\n",
    "PostAuth = Id.merge(AnsCount,on=\"Id\") # Łączymy wyniki po Id użytkownika\n",
    "merge = edited_User.merge(PostAuth,on=\"OwnerUserId\") # Łączymy wyniki z linijki wyżej i users po OwnerUserId\n",
    "merge = merge.dropna(subset=[\"OwnerUserId\"]) # Usuwamy nieistniejące OwnerUserId\n",
    "average = merge[[\"OwnerUserId\",\"TotalNumber\"]].sort_values([\"OwnerUserId\"],ascending=True) # tworzymy zmienną do liczenia średniej\n",
    "mean = average.groupby([\"OwnerUserId\"]).mean()\n",
    "mean['OwnerUserId'] = mean.index # zapisujemy kolumne OwnerUser jako int\n",
    "mean.index=range(0, len(mean)) # Tworzenie kolumny indeksów\n",
    "pandas_result4 = edited_User.merge(mean,on=\"OwnerUserId\") # merge po OwnerUser\n",
    "pandas_result4 = pandas_result4.sort_values([\"TotalNumber\",\"OwnerUserId\"],ascending=[False,True]).head(10) # Posortowanie i ustawienie 10 wyników\n",
    "pandas_result4.columns = [\"AccountId\",\"Location\",\"DisplayName\",\"AverageAnswersCount\"] # Zmiana nazw kolumn\n",
    "pandas_result4 = pandas_result4[[\"AccountId\",\"DisplayName\",\"Location\",\"AverageAnswersCount\"]].reset_index().drop(columns=\"index\") # Zamiana kolumn\n"
   ]
  },
  {
   "cell_type": "code",
   "execution_count": null,
   "id": "6a82cb88-f3f2-472a-96b7-6621a071ff3d",
   "metadata": {},
   "outputs": [],
   "source": [
    "# Zadanie ------ 4) sprawdzenie wyników:\n",
    "\n",
    "print(type(pandas_result4)) # Zwraca DataFrame\n",
    "print(sqldf4.equals(pandas_result4)) # Zwraca True\n"
   ]
  }
 ],
 "metadata": {
  "kernelspec": {
   "display_name": "Python 3 (ipykernel)",
   "language": "python",
   "name": "python3"
  },
  "language_info": {
   "codemirror_mode": {
    "name": "ipython",
    "version": 3
   },
   "file_extension": ".py",
   "mimetype": "text/x-python",
   "name": "python",
   "nbconvert_exporter": "python",
   "pygments_lexer": "ipython3",
   "version": "3.9.7"
  }
 },
 "nbformat": 4,
 "nbformat_minor": 5
}
